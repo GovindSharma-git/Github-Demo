{
  "nbformat": 4,
  "nbformat_minor": 0,
  "metadata": {
    "colab": {
      "provenance": []
    },
    "kernelspec": {
      "name": "python3",
      "display_name": "Python 3"
    },
    "language_info": {
      "name": "python"
    }
  },
  "cells": [
    {
      "cell_type": "markdown",
      "source": [
        "#Python Basics Assignment"
      ],
      "metadata": {
        "id": "pm3APPyX5jqj"
      }
    },
    {
      "cell_type": "markdown",
      "source": [
        "#Theory Questions"
      ],
      "metadata": {
        "id": "PUMVACMS5weD"
      }
    },
    {
      "cell_type": "markdown",
      "source": [
        "1. Python is a programming language which is used to provide instructions to computer. It is very popular language due to its simplicity to learn and code and also various libraries like numpy etc."
      ],
      "metadata": {
        "id": "92oFDIGi59WS"
      }
    },
    {
      "cell_type": "markdown",
      "source": [
        "2. An interpreter in python is used to interpret the python script as python is an interpreted programming language."
      ],
      "metadata": {
        "id": "W75m_BMj6YdK"
      }
    },
    {
      "cell_type": "markdown",
      "source": [
        "3. Pre defined keywords in python are the preserved keyword which has specific function in python like print."
      ],
      "metadata": {
        "id": "b4Tldyxa6vpa"
      }
    },
    {
      "cell_type": "markdown",
      "source": [
        "4. No Keywords cannot be used as a variable name in python"
      ],
      "metadata": {
        "id": "G4weygyY7K3x"
      }
    },
    {
      "cell_type": "markdown",
      "source": [
        "5. In python mutablity means data structures that can be modified after declaration like list."
      ],
      "metadata": {
        "id": "vE71AG7O7S7x"
      }
    },
    {
      "cell_type": "markdown",
      "source": [
        "6. List are mutable because it can be modified after declaration but tuple cannot. hence tuple are immutable."
      ],
      "metadata": {
        "id": "00BD9DZE7j7g"
      }
    },
    {
      "cell_type": "markdown",
      "source": [
        "7. == operator is used to check equality between two data whereas is operator is used to check address of data."
      ],
      "metadata": {
        "id": "-vbGeCMN77LP"
      }
    },
    {
      "cell_type": "markdown",
      "source": [
        "8. In python logical operators are used to com bine conditional statements like and or"
      ],
      "metadata": {
        "id": "gTyHLHV28XLn"
      }
    },
    {
      "cell_type": "markdown",
      "source": [
        "9. In python typecasting is used to convert variable from one datatype to another like from int to string"
      ],
      "metadata": {
        "id": "KPPCacBM8vtu"
      }
    },
    {
      "cell_type": "markdown",
      "source": [
        "10. Implicit typecasting : Occurs on its own in python<br> Explicit typecasting: typecasting variable deliberately by the programmer"
      ],
      "metadata": {
        "id": "92cDm_hg88Ql"
      }
    },
    {
      "cell_type": "markdown",
      "source": [
        "11. To do something on the basis of condition."
      ],
      "metadata": {
        "id": "tFr6SLHn9Y91"
      }
    },
    {
      "cell_type": "markdown",
      "source": [
        "12. If \"if\" statement doesn't match the condition then elif statement will do something if the condition in elif statement mets."
      ],
      "metadata": {
        "id": "-C54LZxN9mLk"
      }
    },
    {
      "cell_type": "markdown",
      "source": [
        "13. for loop  is used to iterate through a specific range or data structure while \"while\" statement is used to iterarte until a condition is met."
      ],
      "metadata": {
        "id": "KwKOnl9L965V"
      }
    },
    {
      "cell_type": "markdown",
      "source": [
        "14. If we want to iterate until a specific condition is met bthen we will use \"while\" statement."
      ],
      "metadata": {
        "id": "tOBhAKpF-UEk"
      }
    },
    {
      "cell_type": "markdown",
      "source": [
        "#Practical Questions"
      ],
      "metadata": {
        "id": "d5fGRUtk-lhU"
      }
    },
    {
      "cell_type": "code",
      "execution_count": null,
      "metadata": {
        "colab": {
          "base_uri": "https://localhost:8080/"
        },
        "id": "a8JXuBpa5Zbi",
        "outputId": "dd3ca617-4e98-41a8-c970-a45537027157"
      },
      "outputs": [
        {
          "output_type": "stream",
          "name": "stdout",
          "text": [
            "Hello World!\n"
          ]
        }
      ],
      "source": [
        "#1\n",
        "print(\"Hello World!\")"
      ]
    },
    {
      "cell_type": "code",
      "source": [
        "#2\n",
        "myname=\"Govind Sharma\"\n",
        "myage=18\n",
        "print(f\"My name is {myname} and my age is {myage}\")"
      ],
      "metadata": {
        "colab": {
          "base_uri": "https://localhost:8080/"
        },
        "id": "GVYaJOxz-4LE",
        "outputId": "f23dc23b-7dad-48e0-c56d-77541605809e"
      },
      "execution_count": null,
      "outputs": [
        {
          "output_type": "stream",
          "name": "stdout",
          "text": [
            "My name is Govind Sharma and my age is 18\n"
          ]
        }
      ]
    },
    {
      "cell_type": "code",
      "source": [
        "#3\n",
        "import keyword\n",
        "print(keyword.kwlist)"
      ],
      "metadata": {
        "colab": {
          "base_uri": "https://localhost:8080/"
        },
        "id": "Ec9GCMe-_KY8",
        "outputId": "53882442-bf71-48e2-97fd-f2bc5d467c4d"
      },
      "execution_count": null,
      "outputs": [
        {
          "output_type": "stream",
          "name": "stdout",
          "text": [
            "['False', 'None', 'True', 'and', 'as', 'assert', 'async', 'await', 'break', 'class', 'continue', 'def', 'del', 'elif', 'else', 'except', 'finally', 'for', 'from', 'global', 'if', 'import', 'in', 'is', 'lambda', 'nonlocal', 'not', 'or', 'pass', 'raise', 'return', 'try', 'while', 'with', 'yield']\n"
          ]
        }
      ]
    },
    {
      "cell_type": "code",
      "source": [
        "#4\n",
        "import keyword\n",
        "print(\"Is 'for' a keyword?\", keyword.iskeyword(\"for\"))"
      ],
      "metadata": {
        "colab": {
          "base_uri": "https://localhost:8080/"
        },
        "id": "Z5NXfyC8_rL-",
        "outputId": "fe4e2531-d012-4d0d-8556-a39d66719c89"
      },
      "execution_count": null,
      "outputs": [
        {
          "output_type": "stream",
          "name": "stdout",
          "text": [
            "Is 'for' a keyword? True\n"
          ]
        }
      ]
    },
    {
      "cell_type": "code",
      "source": [
        "#5\n",
        "lis=[1,2,True,\"Govind\"]\n",
        "tup=(1,2,True,\"Govind\")\n",
        "print(lis)\n",
        "print(tup)\n",
        "lis[2]=7\n",
        "tup[2]=7#it will throw an error since tuple is immutable"
      ],
      "metadata": {
        "colab": {
          "base_uri": "https://localhost:8080/",
          "height": 211
        },
        "id": "xp0RTOW8ABpi",
        "outputId": "3ccf632a-a1cd-4643-f5a9-62c5d72f0821"
      },
      "execution_count": null,
      "outputs": [
        {
          "output_type": "stream",
          "name": "stdout",
          "text": [
            "[1, 2, True, 'Govind']\n",
            "(1, 2, True, 'Govind')\n"
          ]
        },
        {
          "output_type": "error",
          "ename": "TypeError",
          "evalue": "'tuple' object does not support item assignment",
          "traceback": [
            "\u001b[0;31m---------------------------------------------------------------------------\u001b[0m",
            "\u001b[0;31mTypeError\u001b[0m                                 Traceback (most recent call last)",
            "\u001b[0;32m<ipython-input-5-c8128b27117e>\u001b[0m in \u001b[0;36m<cell line: 0>\u001b[0;34m()\u001b[0m\n\u001b[1;32m      5\u001b[0m \u001b[0mprint\u001b[0m\u001b[0;34m(\u001b[0m\u001b[0mtup\u001b[0m\u001b[0;34m)\u001b[0m\u001b[0;34m\u001b[0m\u001b[0;34m\u001b[0m\u001b[0m\n\u001b[1;32m      6\u001b[0m \u001b[0mlis\u001b[0m\u001b[0;34m[\u001b[0m\u001b[0;36m2\u001b[0m\u001b[0;34m]\u001b[0m\u001b[0;34m=\u001b[0m\u001b[0;36m7\u001b[0m\u001b[0;34m\u001b[0m\u001b[0;34m\u001b[0m\u001b[0m\n\u001b[0;32m----> 7\u001b[0;31m \u001b[0mtup\u001b[0m\u001b[0;34m[\u001b[0m\u001b[0;36m2\u001b[0m\u001b[0;34m]\u001b[0m\u001b[0;34m=\u001b[0m\u001b[0;36m7\u001b[0m\u001b[0;31m#it will throw an error since tuple is immutable\u001b[0m\u001b[0;34m\u001b[0m\u001b[0;34m\u001b[0m\u001b[0m\n\u001b[0m",
            "\u001b[0;31mTypeError\u001b[0m: 'tuple' object does not support item assignment"
          ]
        }
      ]
    },
    {
      "cell_type": "code",
      "source": [
        "#6\n",
        "def chang(x,y):\n",
        "    x=7\n",
        "    y[2]=67\n",
        "x=5\n",
        "y=[1,2,5,8]\n",
        "chang(x,y)\n",
        "print(x)\n",
        "print(y)"
      ],
      "metadata": {
        "id": "bpJ_1crTAifL",
        "colab": {
          "base_uri": "https://localhost:8080/"
        },
        "outputId": "f82a9ec5-9496-4f93-d89d-97b4f84e8bc8"
      },
      "execution_count": 2,
      "outputs": [
        {
          "output_type": "stream",
          "name": "stdout",
          "text": [
            "5\n",
            "[1, 2, 67, 8]\n"
          ]
        }
      ]
    },
    {
      "cell_type": "code",
      "source": [
        "#7\n",
        "x=int(input(\"Enter first Number : \"))\n",
        "op=input(\"Enter operator : \")\n",
        "y=int(input(\"Enter second Number : \"))\n",
        "if op=='+':\n",
        "  print(x+y)\n",
        "elif op=='-':\n",
        "  print(x-y)\n",
        "elif op=='*':\n",
        "  print(x*y)\n",
        "elif op=='/':\n",
        "  print(x/y)\n",
        "else:\n",
        "  print(\"Invalid Operator\")"
      ],
      "metadata": {
        "colab": {
          "base_uri": "https://localhost:8080/"
        },
        "id": "-zLrD_6gVoe4",
        "outputId": "9b160dc8-9282-43a5-e539-56249242d5ac"
      },
      "execution_count": 4,
      "outputs": [
        {
          "output_type": "stream",
          "name": "stdout",
          "text": [
            "Enter first Number : 7\n",
            "Enter operator : +\n",
            "Enter second Number : 5\n",
            "12\n"
          ]
        }
      ]
    },
    {
      "cell_type": "code",
      "source": [
        "#8\n",
        "x=7\n",
        "if x==7 and x%2!=0:\n",
        "  print(\"True\")\n",
        "else:\n",
        "  print(\"False\")"
      ],
      "metadata": {
        "colab": {
          "base_uri": "https://localhost:8080/"
        },
        "id": "cLHKCV2oW73u",
        "outputId": "2790a656-44bd-4300-d33b-a7edf5d11ded"
      },
      "execution_count": 5,
      "outputs": [
        {
          "output_type": "stream",
          "name": "stdout",
          "text": [
            "True\n"
          ]
        }
      ]
    },
    {
      "cell_type": "code",
      "source": [
        "#9\n",
        "x=input(\"Enter a string : \")\n",
        "y=int(x)\n",
        "z=float(x)\n",
        "a=bool(x)\n",
        "print(type(y))\n",
        "print(type(z))\n",
        "print(type(a))"
      ],
      "metadata": {
        "colab": {
          "base_uri": "https://localhost:8080/"
        },
        "id": "ptqft2e0XTlc",
        "outputId": "a33bcf05-ec53-45e6-d33a-56cdb39c645f"
      },
      "execution_count": 7,
      "outputs": [
        {
          "output_type": "stream",
          "name": "stdout",
          "text": [
            "Enter a string : 1\n",
            "<class 'int'>\n",
            "<class 'float'>\n",
            "<class 'bool'>\n"
          ]
        }
      ]
    },
    {
      "cell_type": "code",
      "source": [
        "#10\n",
        "# Original list with string numbers\n",
        "string_numbers = [\"1\", \"2\", \"3\", \"4\", \"5\"]\n",
        "print(\"Original list (strings):\", string_numbers)\n",
        "\n",
        "# Type casting string elements to integers\n",
        "int_numbers = [int(num) for num in string_numbers]\n",
        "print(\"After type casting to integers:\", int_numbers)"
      ],
      "metadata": {
        "colab": {
          "base_uri": "https://localhost:8080/"
        },
        "id": "uGoYp-IHXygi",
        "outputId": "28938c90-e0e1-4c7f-9bce-ec92ec48726b"
      },
      "execution_count": 8,
      "outputs": [
        {
          "output_type": "stream",
          "name": "stdout",
          "text": [
            "Original list (strings): ['1', '2', '3', '4', '5']\n",
            "After type casting to integers: [1, 2, 3, 4, 5]\n"
          ]
        }
      ]
    },
    {
      "cell_type": "code",
      "source": [
        "#11\n",
        "x=int(input(\"Enter a number: \"))\n",
        "if x>0:\n",
        "  print(\"Positive\")\n",
        "elif x<0:\n",
        "  print(\"Negative\")\n",
        "else:\n",
        "  print(\"Zero\")"
      ],
      "metadata": {
        "colab": {
          "base_uri": "https://localhost:8080/"
        },
        "id": "EQrkpmqdYRU8",
        "outputId": "5fd38406-b1ad-412d-d8b8-2b70d584d7ce"
      },
      "execution_count": 12,
      "outputs": [
        {
          "output_type": "stream",
          "name": "stdout",
          "text": [
            "Enter a number: 9\n",
            "Positive\n",
            "Enter a number: -9\n",
            "Negative\n"
          ]
        }
      ]
    },
    {
      "cell_type": "code",
      "source": [
        "#12\n",
        "for i in range(1,11):\n",
        "  print(i)"
      ],
      "metadata": {
        "colab": {
          "base_uri": "https://localhost:8080/"
        },
        "id": "ZoJvXBtcZHL-",
        "outputId": "6f987bd0-41eb-47e2-ed85-727a71b559c5"
      },
      "execution_count": 13,
      "outputs": [
        {
          "output_type": "stream",
          "name": "stdout",
          "text": [
            "1\n",
            "2\n",
            "3\n",
            "4\n",
            "5\n",
            "6\n",
            "7\n",
            "8\n",
            "9\n",
            "10\n"
          ]
        }
      ]
    },
    {
      "cell_type": "code",
      "source": [
        "#13\n",
        "sum=0\n",
        "for i in range(1,51):\n",
        "  if i%2==0:\n",
        "    sum+=i\n",
        "print(sum)"
      ],
      "metadata": {
        "colab": {
          "base_uri": "https://localhost:8080/"
        },
        "id": "48yfkjFYZOK2",
        "outputId": "eeac5977-0c2b-4457-82f5-fc5f48736c63"
      },
      "execution_count": 14,
      "outputs": [
        {
          "output_type": "stream",
          "name": "stdout",
          "text": [
            "650\n"
          ]
        }
      ]
    },
    {
      "cell_type": "code",
      "source": [
        "#14\n",
        "s=\"Govind\"\n",
        "str=list(s)\n",
        "i=0\n",
        "j=len(str)-1\n",
        "while j>=i:\n",
        "  temp=str[i]\n",
        "  str[i]=str[j]\n",
        "  str[j]=temp\n",
        "  i+=1\n",
        "  j-=1\n",
        "print(str)"
      ],
      "metadata": {
        "colab": {
          "base_uri": "https://localhost:8080/"
        },
        "id": "Cl5e0QJdZnZ3",
        "outputId": "df87bc33-e53f-461e-d3a9-4c434c83b50b"
      },
      "execution_count": 22,
      "outputs": [
        {
          "output_type": "stream",
          "name": "stdout",
          "text": [
            "['d', 'n', 'i', 'v', 'o', 'G']\n"
          ]
        }
      ]
    },
    {
      "cell_type": "code",
      "source": [
        "#15\n",
        "def fact(n):\n",
        "  if n==0 or n==1:\n",
        "    return 1\n",
        "  return n*fact(n-1)\n",
        "n=int(input(\"Enter a number: \"))\n",
        "fact(n)"
      ],
      "metadata": {
        "colab": {
          "base_uri": "https://localhost:8080/"
        },
        "id": "ym5xvgYUbcai",
        "outputId": "5f1eb4c9-4420-4d55-e08e-b463b141e701"
      },
      "execution_count": 21,
      "outputs": [
        {
          "name": "stdout",
          "output_type": "stream",
          "text": [
            "Enter a number: 5\n"
          ]
        },
        {
          "output_type": "execute_result",
          "data": {
            "text/plain": [
              "120"
            ]
          },
          "metadata": {},
          "execution_count": 21
        }
      ]
    }
  ]
}